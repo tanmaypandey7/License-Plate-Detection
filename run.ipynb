{
 "cells": [
  {
   "cell_type": "code",
   "execution_count": 135,
   "metadata": {},
   "outputs": [],
   "source": [
    "import os, cv2, re, random\n",
    "import numpy as np\n",
    "import pandas as pd\n",
    "import json\n",
    "from pprint import pprint\n",
    "import matplotlib.pyplot as plt\n",
    "import math"
   ]
  },
  {
   "cell_type": "code",
   "execution_count": 68,
   "metadata": {},
   "outputs": [],
   "source": [
    "# from keras.preprocessing.image import ImageDataGenerator\n",
    "# from keras.preprocessing.image import img_to_array, load_img\n",
    "# from keras import layers, models, optimizers\n",
    "# from keras import backend as K"
   ]
  },
  {
   "cell_type": "code",
   "execution_count": 69,
   "metadata": {},
   "outputs": [],
   "source": [
    "ann_DIR=r\"C:/Users/Vision/Downloads/artificial_samples/License plates__artificial/ann/\"\n",
    "img_DIR=r\"C:/Users/Vision/Downloads/artificial_samples/License plates__artificial/img/\""
   ]
  },
  {
   "cell_type": "code",
   "execution_count": 70,
   "metadata": {},
   "outputs": [],
   "source": [
    "img=[img_DIR+i for i in os.listdir(img_DIR)] \n",
    "ann=[ann_DIR+i for i in os.listdir(ann_DIR)] "
   ]
  },
  {
   "cell_type": "code",
   "execution_count": 71,
   "metadata": {},
   "outputs": [
    {
     "data": {
      "text/plain": [
       "'C:/Users/Vision/Downloads/artificial_samples/License plates__artificial/img/00000000_E112YB13.png'"
      ]
     },
     "execution_count": 71,
     "metadata": {},
     "output_type": "execute_result"
    }
   ],
   "source": [
    "img[0]"
   ]
  },
  {
   "cell_type": "code",
   "execution_count": 72,
   "metadata": {},
   "outputs": [
    {
     "data": {
      "text/plain": [
       "'C:/Users/Vision/Downloads/artificial_samples/License plates__artificial/ann/00000000_E112YB13.json'"
      ]
     },
     "execution_count": 72,
     "metadata": {},
     "output_type": "execute_result"
    }
   ],
   "source": [
    "ann[0]"
   ]
  },
  {
   "cell_type": "code",
   "execution_count": 113,
   "metadata": {},
   "outputs": [
    {
     "name": "stdout",
     "output_type": "stream",
     "text": [
      "{'description': '',\n",
      " 'objects': [{'bitmap': {'np': [], 'origin': []},\n",
      "              'classTitle': 'plate_bbox',\n",
      "              'description': '',\n",
      "              'points': {'exterior': [[26.0, 43.0], [101.0, 61.0]],\n",
      "                         'interior': []},\n",
      "              'tags': [],\n",
      "              'type': 'rectangle'}],\n",
      " 'size': {'height': 64, 'width': 128},\n",
      " 'tags': ['train']}\n"
     ]
    }
   ],
   "source": [
    "with open(ann[0]) as f:\n",
    "    data = json.load(f)\n",
    "\n",
    "pprint(data)"
   ]
  },
  {
   "cell_type": "code",
   "execution_count": 130,
   "metadata": {},
   "outputs": [
    {
     "data": {
      "text/plain": [
       "[[26.0, 43.0], [101.0, 61.0]]"
      ]
     },
     "execution_count": 130,
     "metadata": {},
     "output_type": "execute_result"
    }
   ],
   "source": [
    "data['objects'][0]['points']['exterior']"
   ]
  },
  {
   "cell_type": "code",
   "execution_count": 133,
   "metadata": {},
   "outputs": [],
   "source": [
    "xt=data['objects'][0]['points']['exterior'][0][0]\n",
    "yt=data['objects'][0]['points']['exterior'][0][1]\n",
    "xl=data['objects'][0]['points']['exterior'][1][0]\n",
    "yl=data['objects'][0]['points']['exterior'][1][1]"
   ]
  },
  {
   "cell_type": "code",
   "execution_count": 139,
   "metadata": {},
   "outputs": [
    {
     "name": "stdout",
     "output_type": "stream",
     "text": [
      "75.0 18.0\n"
     ]
    }
   ],
   "source": [
    "height=abs(yt-yl)\n",
    "width=abs(xt-xl)\n",
    "print(width,height)"
   ]
  },
  {
   "cell_type": "code",
   "execution_count": 138,
   "metadata": {},
   "outputs": [
    {
     "data": {
      "image/png": "[encoded data removed]",
      "text/plain": [
       "<Figure size 432x288 with 1 Axes>"
      ]
     },
     "metadata": {},
     "output_type": "display_data"
    }
   ],
   "source": [
    "import matplotlib.pyplot as plt\n",
    "import matplotlib.patches as patches\n",
    "from PIL import Image\n",
    "import numpy as np\n",
    "\n",
    "# tl=data['objects'][0]['points']['exterior'][0]\n",
    "# br=data['objects'][0]['points']['exterior'][1]\n",
    "# tr=data['objects'][0]['points']['exterior'][0]\n",
    "# bl=data['objects'][0]['points']['exterior'][1]\n",
    "\n",
    "im = np.array(Image.open(img[0]), dtype=np.uint8)\n",
    "\n",
    "# Create figure and axes\n",
    "\n",
    "fig,ax = plt.subplots(1)\n",
    "\n",
    "\n",
    "# Display the image\n",
    "ax.imshow(im,cmap='gray')\n",
    "\n",
    "# Create a Rectangle patch\n",
    "rect = patches.Rectangle((26.0, 43.0),width,height,linewidth=1,edgecolor='r',facecolor='none')\n",
    "# [26.0, 43.0], [101.0, 61.0]\n",
    "# Add the patch to the Axes\n",
    "ax.add_patch(rect)\n",
    "\n",
    "plt.show()"
   ]
  },
  {
   "cell_type": "code",
   "execution_count": null,
   "metadata": {},
   "outputs": [],
   "source": []
  }
 ],
 "metadata": {
  "kernelspec": {
   "display_name": "Python 3",
   "language": "python",
   "name": "python3"
  },
  "language_info": {
   "codemirror_mode": {
    "name": "ipython",
    "version": 3
   },
   "file_extension": ".py",
   "mimetype": "text/x-python",
   "name": "python",
   "nbconvert_exporter": "python",
   "pygments_lexer": "ipython3",
   "version": "3.6.5"
  }
 },
 "nbformat": 4,
 "nbformat_minor": 2
}
