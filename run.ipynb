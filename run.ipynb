{
 "cells": [
  {
   "cell_type": "code",
   "execution_count": 115,
   "metadata": {},
   "outputs": [],
   "source": [
    "import os, cv2, re, random\n",
    "import numpy as np\n",
    "import pandas as pd\n",
    "import json\n",
    "from pprint import pprint\n",
    "import math\n",
    "import matplotlib.pyplot as plt\n",
    "import matplotlib.patches as patches\n",
    "from PIL import Image"
   ]
  },
  {
   "cell_type": "code",
   "execution_count": 116,
   "metadata": {},
   "outputs": [],
   "source": [
    "# from keras.preprocessing.image import ImageDataGenerator\n",
    "# from keras.preprocessing.image import img_to_array, load_img\n",
    "# from keras import layers, models, optimizers\n",
    "# from keras import backend as K"
   ]
  },
  {
   "cell_type": "code",
   "execution_count": 117,
   "metadata": {},
   "outputs": [],
   "source": [
    "ann_DIR=r\"C:/Users/Vision/Downloads/artificial_samples/License plates__artificial/ann/\"\n",
    "img_DIR=r\"C:/Users/Vision/Downloads/artificial_samples/License plates__artificial/img/\""
   ]
  },
  {
   "cell_type": "code",
   "execution_count": 118,
   "metadata": {},
   "outputs": [],
   "source": [
    "img=[img_DIR+i for i in os.listdir(img_DIR)] \n",
    "ann=[ann_DIR+i for i in os.listdir(ann_DIR)] "
   ]
  },
  {
   "cell_type": "code",
   "execution_count": 119,
   "metadata": {},
   "outputs": [
    {
     "data": {
      "text/plain": [
       "'C:/Users/Vision/Downloads/artificial_samples/License plates__artificial/img/00000000_E112YB13.png'"
      ]
     },
     "execution_count": 119,
     "metadata": {},
     "output_type": "execute_result"
    }
   ],
   "source": [
    "img[0]"
   ]
  },
  {
   "cell_type": "code",
   "execution_count": 120,
   "metadata": {},
   "outputs": [
    {
     "data": {
      "text/plain": [
       "'C:/Users/Vision/Downloads/artificial_samples/License plates__artificial/ann/00000000_E112YB13.json'"
      ]
     },
     "execution_count": 120,
     "metadata": {},
     "output_type": "execute_result"
    }
   ],
   "source": [
    "ann[0]"
   ]
  },
  {
   "cell_type": "code",
   "execution_count": 126,
   "metadata": {},
   "outputs": [
    {
     "name": "stdout",
     "output_type": "stream",
     "text": [
      "{'tags': ['train'], 'description': '', 'objects': [{'bitmap': {'origin': [], 'np': []}, 'type': 'rectangle', 'classTitle': 'plate_bbox', 'description': '', 'tags': [], 'points': {'exterior': [[26.0, 43.0], [101.0, 61.0]], 'interior': []}}], 'size': {'height': 64, 'width': 128}}\n"
     ]
    }
   ],
   "source": [
    "    with open(ann[0]) as f:\n",
    "        data = json.load(f)\n",
    "    print(data)"
   ]
  },
  {
   "cell_type": "code",
   "execution_count": 122,
   "metadata": {},
   "outputs": [],
   "source": [
    "def draw_contour(img,file):  \n",
    "    with open(file) as f:\n",
    "        data = json.load(f)\n",
    "    ext=data['objects'][0]['points']['exterior'][0]\n",
    "    xt=data['objects'][0]['points']['exterior'][0][0]\n",
    "    yt=data['objects'][0]['points']['exterior'][0][1]\n",
    "    xl=data['objects'][0]['points']['exterior'][1][0]\n",
    "    yl=data['objects'][0]['points']['exterior'][1][1]\n",
    "    im = np.array(Image.open(img), dtype=np.uint8)\n",
    "\n",
    "    # Create figure and axes\n",
    "\n",
    "    fig,ax = plt.subplots(1)\n",
    "\n",
    "    height=abs(yt-yl)\n",
    "    width=abs(xt-xl)\n",
    "    \n",
    "    # Display the image\n",
    "    ax.imshow(im,cmap='gray')\n",
    "\n",
    "    # Create a Rectangle patch\n",
    "    rect = patches.Rectangle(ext,width,height,linewidth=1,edgecolor='r',facecolor='none')\n",
    "    \n",
    "    # Add the patch to the Axes\n",
    "    ax.add_patch(rect)\n",
    "\n",
    "    return plt.show()"
   ]
  },
  {
   "cell_type": "code",
   "execution_count": 124,
   "metadata": {},
   "outputs": [
    {
     "data": {
      "image/png": "[encoded data removed]",
      "text/plain": [
       "<Figure size 432x288 with 1 Axes>"
      ]
     },
     "metadata": {},
     "output_type": "display_data"
    }
   ],
   "source": [
    "draw_contour(img[0],ann[0])"
   ]
  },
  {
   "cell_type": "code",
   "execution_count": 10,
   "metadata": {},
   "outputs": [],
   "source": [
    "# def split_dataset(ann):\n",
    "# for jsonfile in glob.iglob(os.path.join(src_dir, \"*.json\")):\n",
    "#     with open(jsonfile) as f:\n",
    "#         data = json.load(f)\n",
    "#     if 'train' in  data['tags']:    \n",
    "#         shutil.copy(jsonfile, train_dst_dir)\n",
    "#     else:\n",
    "#         shutil.copy(jsonfile, valid_dst_dir)"
   ]
  },
  {
   "cell_type": "code",
   "execution_count": 11,
   "metadata": {},
   "outputs": [
    {
     "name": "stdout",
     "output_type": "stream",
     "text": [
      "{'description': '',\n",
      " 'objects': [{'bitmap': {'np': [], 'origin': []},\n",
      "              'classTitle': 'plate_bbox',\n",
      "              'description': '',\n",
      "              'points': {'exterior': [[26.0, 43.0], [101.0, 61.0]],\n",
      "                         'interior': []},\n",
      "              'tags': [],\n",
      "              'type': 'rectangle'}],\n",
      " 'size': {'height': 64, 'width': 128},\n",
      " 'tags': ['train']}\n"
     ]
    }
   ],
   "source": [
    "with open(ann[0]) as f:\n",
    "    data = json.load(f)\n",
    "pprint(data)"
   ]
  },
  {
   "cell_type": "code",
   "execution_count": 12,
   "metadata": {},
   "outputs": [],
   "source": [
    "# import shutil #to copy ann  from one path to another\n",
    "# import glob\n",
    "# import os\n",
    "# src_dir = r\"C:\\Users\\Vision\\Downloads\\artificial_samples\\License plates__artificial\\ann\"\n",
    "# train_dst_dir = r\"C:\\Users\\Vision\\Downloads\\artificial_samples\\split\\train\\ann\"\n",
    "# valid_dst_dir = r\"C:\\Users\\Vision\\Downloads\\artificial_samples\\split\\valid\\ann\"\n",
    "\n",
    "# for jsonfile in glob.iglob(os.path.join(src_dir, \"*.json\")):\n",
    "#     with open(jsonfile) as f:\n",
    "#         data = json.load(f)\n",
    "#     if 'train' in  data['tags']:    \n",
    "#         shutil.copy(jsonfile, train_dst_dir)\n",
    "#     else:\n",
    "#         shutil.copy(jsonfile, valid_dst_dir)"
   ]
  },
  {
   "cell_type": "code",
   "execution_count": 13,
   "metadata": {},
   "outputs": [],
   "source": [
    "# #good old normal split\n",
    "image_fps_list = list(img)\n",
    "random.seed(42)\n",
    "random.shuffle(image_fps_list)\n",
    "val_size = 1500\n",
    "image_fps_val = image_fps_list[:val_size]\n",
    "image_fps_train = image_fps_list[val_size:]"
   ]
  },
  {
   "cell_type": "code",
   "execution_count": 14,
   "metadata": {},
   "outputs": [],
   "source": [
    "ann_fps_list = list(ann)\n",
    "random.seed(42)\n",
    "random.shuffle(ann_fps_list)\n",
    "val_size = 1500\n",
    "ann_fps_val = ann_fps_list[:val_size]\n",
    "ann_fps_train = ann_fps_list[val_size:]\n"
   ]
  },
  {
   "cell_type": "code",
   "execution_count": 15,
   "metadata": {},
   "outputs": [],
   "source": [
    "# image_fps_train"
   ]
  },
  {
   "cell_type": "code",
   "execution_count": 16,
   "metadata": {
    "scrolled": true
   },
   "outputs": [],
   "source": [
    "# ann_fps_train"
   ]
  },
  {
   "cell_type": "code",
   "execution_count": 17,
   "metadata": {},
   "outputs": [
    {
     "data": {
      "text/plain": [
       "'C:/Users/Vision/Downloads/artificial_samples/License plates__artificial/ann/00000000_E112YB13.json'"
      ]
     },
     "execution_count": 17,
     "metadata": {},
     "output_type": "execute_result"
    }
   ],
   "source": [
    "ann[0]"
   ]
  },
  {
   "cell_type": "code",
   "execution_count": 18,
   "metadata": {},
   "outputs": [],
   "source": [
    "# !git clone https://www.github.com/matterport/Mask_RCNN.git\n",
    "# os.chdir('Mask_RCNN')\n",
    "# #!python setup.py -q install"
   ]
  },
  {
   "cell_type": "code",
   "execution_count": 19,
   "metadata": {},
   "outputs": [
    {
     "data": {
      "text/plain": [
       "'D:\\\\PYTHON\\\\Scripts\\\\License-Plate-Detection'"
      ]
     },
     "execution_count": 19,
     "metadata": {},
     "output_type": "execute_result"
    }
   ],
   "source": [
    "pwd"
   ]
  },
  {
   "cell_type": "code",
   "execution_count": 20,
   "metadata": {},
   "outputs": [
    {
     "name": "stderr",
     "output_type": "stream",
     "text": [
      "D:\\anaconda\\lib\\site-packages\\h5py\\__init__.py:36: FutureWarning: Conversion of the second argument of issubdtype from `float` to `np.floating` is deprecated. In future, it will be treated as `np.float64 == np.dtype(float).type`.\n",
      "  from ._conv import register_converters as _register_converters\n",
      "Using TensorFlow backend.\n"
     ]
    }
   ],
   "source": [
    "# sys.path.append(os.path.join(ROOT_DIR, 'Mask_RCNN'))  # To find local version of the library\n",
    "from mrcnn.config import Config\n",
    "from mrcnn import utils\n",
    "import mrcnn.model as modellib\n",
    "from mrcnn import visualize\n",
    "from mrcnn.model import log"
   ]
  },
  {
   "cell_type": "code",
   "execution_count": null,
   "metadata": {},
   "outputs": [],
   "source": []
  },
  {
   "cell_type": "code",
   "execution_count": 21,
   "metadata": {},
   "outputs": [],
   "source": [
    "# img"
   ]
  },
  {
   "cell_type": "code",
   "execution_count": 22,
   "metadata": {},
   "outputs": [],
   "source": [
    "# img[0]"
   ]
  },
  {
   "cell_type": "code",
   "execution_count": 23,
   "metadata": {},
   "outputs": [
    {
     "name": "stdout",
     "output_type": "stream",
     "text": [
      "(8192,)\n"
     ]
    }
   ],
   "source": [
    "from PIL import Image\n",
    "import numpy as np\n",
    "# import xrange\n",
    "im = Image.open(img[0])\n",
    "\n",
    "pixels = list(im.getdata())\n",
    "width, height = im.size \n",
    "z=np.array(pixels)\n",
    "print((z.shape))\n",
    "# pixels = [pixels[i * width:(i + 1) * width] for i in xrange(height)]\n",
    "# np.savetxt(\"pixel_data.txt\", pixels, delimiter=\" \") "
   ]
  },
  {
   "cell_type": "code",
   "execution_count": 24,
   "metadata": {},
   "outputs": [
    {
     "ename": "AttributeError",
     "evalue": "module 'PIL.Image' has no attribute 'load'",
     "output_type": "error",
     "traceback": [
      "\u001b[1;31m---------------------------------------------------------------------------\u001b[0m",
      "\u001b[1;31mAttributeError\u001b[0m                            Traceback (most recent call last)",
      "\u001b[1;32m<ipython-input-24-ab61c2a0a790>\u001b[0m in \u001b[0;36m<module>\u001b[1;34m()\u001b[0m\n\u001b[0;32m      1\u001b[0m \u001b[0my\u001b[0m\u001b[1;33m=\u001b[0m\u001b[0mnp\u001b[0m\u001b[1;33m.\u001b[0m\u001b[0mreshape\u001b[0m\u001b[1;33m(\u001b[0m\u001b[0mz\u001b[0m\u001b[1;33m,\u001b[0m\u001b[1;33m(\u001b[0m\u001b[1;36m128\u001b[0m\u001b[1;33m,\u001b[0m\u001b[1;36m64\u001b[0m\u001b[1;33m)\u001b[0m\u001b[1;33m)\u001b[0m\u001b[1;33m\u001b[0m\u001b[0m\n\u001b[1;32m----> 2\u001b[1;33m \u001b[0mprint\u001b[0m\u001b[1;33m(\u001b[0m\u001b[0mImage\u001b[0m\u001b[1;33m.\u001b[0m\u001b[0mload\u001b[0m\u001b[1;33m(\u001b[0m\u001b[0my\u001b[0m\u001b[1;33m)\u001b[0m\u001b[1;33m)\u001b[0m\u001b[1;33m\u001b[0m\u001b[0m\n\u001b[0m",
      "\u001b[1;31mAttributeError\u001b[0m: module 'PIL.Image' has no attribute 'load'"
     ]
    }
   ],
   "source": [
    "# y=np.reshape(z,(128,64))\n",
    "# print(Image.load(y))"
   ]
  },
  {
   "cell_type": "code",
   "execution_count": 25,
   "metadata": {},
   "outputs": [
    {
     "data": {
      "text/plain": [
       "(8192,)"
      ]
     },
     "execution_count": 25,
     "metadata": {},
     "output_type": "execute_result"
    }
   ],
   "source": [
    "z.shape\n"
   ]
  },
  {
   "cell_type": "code",
   "execution_count": 27,
   "metadata": {},
   "outputs": [],
   "source": [
    "# # for i, fp in enumerate(img):\n",
    "# with open(img[0]) as f:\n",
    "# #     data = json.load(f)\n",
    "# #     print(data)\n",
    "# #             annotations = data\n",
    "#     print(f.read())\n",
    "# #     im = Image.open(f, 'r')\n",
    "# #     print(im.get_data())\n",
    "# # print(annotations)"
   ]
  },
  {
   "cell_type": "code",
   "execution_count": 29,
   "metadata": {},
   "outputs": [
    {
     "data": {
      "text/plain": [
       "'C:/Users/Vision/Downloads/artificial_samples/License plates__artificial/img/00000000_E112YB13.png'"
      ]
     },
     "execution_count": 29,
     "metadata": {},
     "output_type": "execute_result"
    }
   ],
   "source": [
    "img[0]"
   ]
  },
  {
   "cell_type": "code",
   "execution_count": 55,
   "metadata": {},
   "outputs": [
    {
     "name": "stdout",
     "output_type": "stream",
     "text": [
      "[[ 26   3  73 ...  56  59  50]\n",
      " [152 112 106 ...  72  49  60]\n",
      " [159 149 182 ...  47  72  70]\n",
      " ...\n",
      " [ 40  58  57 ...  77  90  87]\n",
      " [ 77  49  99 ...  28  35  65]\n",
      " [ 90  68  64 ...  37 142 133]]\n"
     ]
    }
   ],
   "source": [
    "# for i, fp in enumerate(img):\n",
    "from PIL import Image\n",
    "filename='C:/Users/Vision/Downloads/artificial_samples/License plates__artificial/img/00000000_E112YB13'\n",
    "# img=Image.open(filename+'.png').convert('LA')\n",
    "img = cv2.imread(filename+'.png', 0)\n",
    "data=np.array(img,dtype='uint8')\n",
    "print(data)\n",
    "#     with open(img[i]) as f:\n",
    "#         data = (f)\n",
    "#     im = Image.open(data, ‘ r’)\n",
    "#     print(im.get_data())\n",
    "#     ds = pydicom.read_file(fp)\n",
    "#     image = ds.pixel_array   \n",
    "#     print(data.pixel_array)\n",
    "    "
   ]
  },
  {
   "cell_type": "code",
   "execution_count": 56,
   "metadata": {},
   "outputs": [
    {
     "data": {
      "text/plain": [
       "(64, 128)"
      ]
     },
     "execution_count": 56,
     "metadata": {},
     "output_type": "execute_result"
    }
   ],
   "source": [
    "data.shape"
   ]
  },
  {
   "cell_type": "code",
   "execution_count": 57,
   "metadata": {},
   "outputs": [
    {
     "data": {
      "text/plain": [
       "<matplotlib.image.AxesImage at 0x23cb1fbbc18>"
      ]
     },
     "execution_count": 57,
     "metadata": {},
     "output_type": "execute_result"
    },
    {
     "data": {
      "image/png": "[encoded data removed]",
      "text/plain": [
       "<Figure size 432x288 with 1 Axes>"
      ]
     },
     "metadata": {},
     "output_type": "display_data"
    }
   ],
   "source": [
    "np.save( filename + '.npy', data)\n",
    "img_array = np.load(filename + '.npy')\n",
    "plt.imshow(img_array,cmap='gray') "
   ]
  },
  {
   "cell_type": "code",
   "execution_count": 59,
   "metadata": {},
   "outputs": [
    {
     "name": "stdout",
     "output_type": "stream",
     "text": [
      "{'tags': ['train'], 'description': '', 'objects': [{'bitmap': {'origin': [], 'np': []}, 'type': 'rectangle', 'classTitle': 'plate_bbox', 'description': '', 'tags': [], 'points': {'exterior': [[26.0, 43.0], [101.0, 61.0]], 'interior': []}}], 'size': {'height': 64, 'width': 128}}\n"
     ]
    }
   ],
   "source": [
    "with open(ann[0]) as f:\n",
    "    data = json.load(f)\n",
    "    print(data)\n",
    "            "
   ]
  },
  {
   "cell_type": "code",
   "execution_count": 175,
   "metadata": {},
   "outputs": [],
   "source": [
    "\n",
    "class DetectorDataset(utils.Dataset):\n",
    "    \"\"\"Dataset class for training pneumonia detection on the RSNA pneumonia dataset.\n",
    "    \"\"\"\n",
    "\n",
    "    def __init__(self, image_fps, image_annotations, orig_height, orig_width):\n",
    "        super().__init__(self)\n",
    "        \n",
    "        # Add classes\n",
    "        self.add_class('license plate', 1, 'confidence')\n",
    "        \n",
    "        # add images \n",
    "        for i, fp in enumerate(img):\n",
    "            with open(ann[i]) as f:\n",
    "                data = json.load(f)\n",
    "            annotations = data\n",
    "            self.add_image('license plate', image_id=i, path=fp, \n",
    "                           annotations=annotations, orig_height=128, orig_width=64)\n",
    "            \n",
    "    def image_reference(self, image_id):\n",
    "        info = self.image_info[image_id]\n",
    "        return info['path']\n",
    "\n",
    "    def load_image(self, image_id):\n",
    "        filename='C:/Users/Vision/Downloads/artificial_samples/License plates__artificial/img/00000000_E112YB13'\n",
    "        img = cv2.imread(filename+'.png', 0)\n",
    "        image=np.array(img,dtype='uint8')\n",
    "#         info = self.image_info[image_id]\n",
    "#         fp = info['path']\n",
    "#         ds = pydicom.read_file(fp)\n",
    "#         image = ds.pixel_array\n",
    "#         # If grayscale. Convert to RGB for consistency.\n",
    "#         if len(image.shape) != 3 or image.shape[2] != 3:\n",
    "#             image = np.stack((image,) * 3, -1)\n",
    "        return image\n",
    "\n",
    "    def load_mask(self, image_id):\n",
    "        info = self.image_info[image_id]\n",
    "        annotations = info['annotations']\n",
    "        count = len(annotations)\n",
    "\n",
    "        mask = np.zeros((64, 128), dtype=np.uint8)\n",
    "        class_ids = np.zeros((1,), dtype=np.int32)\n",
    "        for i, a in enumerate(annotations):\n",
    "#                 if a['Target'] == 1:\n",
    "#             x = int(a['x'])\n",
    "#             y = int(a['y'])\n",
    "#             w = int(a['width'])\n",
    "#             h = int(a['height'])\n",
    "#             ext=int(data['objects'][0]['points']['exterior'][0])\n",
    "            x=int(data['objects'][0]['points']['exterior'][0][0])\n",
    "            y=int(data['objects'][0]['points']['exterior'][0][1])\n",
    "            xl=int(data['objects'][0]['points']['exterior'][1][0])\n",
    "            yl=int(data['objects'][0]['points']['exterior'][1][1])\n",
    "            h=abs(y-yl)\n",
    "            w=abs(x-xl)\n",
    "#             ax.imshow(im,cmap='gray')\n",
    "\n",
    "            # Create a Rectangle patch\n",
    "#             rect = patches.Rectangle(ext,width,height,linewidth=1,edgecolor='r',facecolor='none')\n",
    "                \n",
    "            mask_instance = mask[:, :].copy()\n",
    "            cv2.rectangle(mask_instance, (x, y), (x+w, y+h), 255, -1)\n",
    "            mask[:, :] = mask_instance\n",
    "#             class_ids[i] = 1\n",
    "        return mask.astype(np.bool)\n",
    "    "
   ]
  },
  {
   "cell_type": "code",
   "execution_count": 176,
   "metadata": {
    "scrolled": true
   },
   "outputs": [],
   "source": [
    "dataset_train = DetectorDataset(image_fps_train, ann_fps_train, 128, 64)\n",
    "dataset_train.prepare()"
   ]
  },
  {
   "cell_type": "code",
   "execution_count": 177,
   "metadata": {},
   "outputs": [
    {
     "data": {
      "text/plain": [
       "'C:/Users/Vision/Downloads/artificial_samples/License plates__artificial/ann/00000000_E112YB13.json'"
      ]
     },
     "execution_count": 177,
     "metadata": {},
     "output_type": "execute_result"
    }
   ],
   "source": [
    "ann[0]"
   ]
  },
  {
   "cell_type": "code",
   "execution_count": 180,
   "metadata": {},
   "outputs": [
    {
     "data": {
      "text/plain": [
       "(array([False,  True]), array([6748, 1444], dtype=int64))"
      ]
     },
     "execution_count": 180,
     "metadata": {},
     "output_type": "execute_result"
    }
   ],
   "source": [
    "np.unique(t.load_mask(0),return_counts=True)"
   ]
  },
  {
   "cell_type": "code",
   "execution_count": 178,
   "metadata": {},
   "outputs": [
    {
     "name": "stdout",
     "output_type": "stream",
     "text": [
      "[[False False False ... False False False]\n",
      " [False False False ... False False False]\n",
      " [False False False ... False False False]\n",
      " ...\n",
      " [False False False ... False False False]\n",
      " [False False False ... False False False]\n",
      " [False False False ... False False False]]\n"
     ]
    }
   ],
   "source": [
    "t=DetectorDataset(img[0],ann[0],128,64)\n",
    "print(t.load_mask(0))"
   ]
  },
  {
   "cell_type": "code",
   "execution_count": 1,
   "metadata": {},
   "outputs": [
    {
     "name": "stderr",
     "output_type": "stream",
     "text": [
      "D:\\anaconda\\lib\\site-packages\\h5py\\__init__.py:36: FutureWarning: Conversion of the second argument of issubdtype from `float` to `np.floating` is deprecated. In future, it will be treated as `np.float64 == np.dtype(float).type`.\n",
      "  from ._conv import register_converters as _register_converters\n"
     ]
    }
   ],
   "source": [
    "from tensorflow.python.keras.models import Sequential\n",
    "from tensorflow.python.keras.applications import ResNet50\n",
    "from tensorflow.python.keras.layers import Dense,Dropout"
   ]
  },
  {
   "cell_type": "code",
   "execution_count": null,
   "metadata": {},
   "outputs": [],
   "source": []
  },
  {
   "cell_type": "code",
   "execution_count": null,
   "metadata": {},
   "outputs": [],
   "source": []
  }
 ],
 "metadata": {
  "kernelspec": {
   "display_name": "Python 3",
   "language": "python",
   "name": "python3"
  },
  "language_info": {
   "codemirror_mode": {
    "name": "ipython",
    "version": 3
   },
   "file_extension": ".py",
   "mimetype": "text/x-python",
   "name": "python",
   "nbconvert_exporter": "python",
   "pygments_lexer": "ipython3",
   "version": "3.6.5"
  }
 },
 "nbformat": 4,
 "nbformat_minor": 2
}
